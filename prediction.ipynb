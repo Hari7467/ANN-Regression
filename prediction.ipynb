{
 "cells": [
  {
   "cell_type": "code",
   "execution_count": 14,
   "metadata": {},
   "outputs": [],
   "source": [
    "#import Packages\n",
    "import tensorflow\n",
    "import pandas as pd\n",
    "import numpy as np\n",
    "from tensorflow.keras.models import load_model\n",
    "import pickle"
   ]
  },
  {
   "cell_type": "code",
   "execution_count": 15,
   "metadata": {},
   "outputs": [
    {
     "name": "stderr",
     "output_type": "stream",
     "text": [
      "WARNING:absl:Compiled the loaded model, but the compiled metrics have yet to be built. `model.compile_metrics` will be empty until you train or evaluate the model.\n"
     ]
    }
   ],
   "source": [
    "#Load the trained model\n",
    "model=load_model(\"regression_model.h5\")\n",
    "#Load scaler,one hot encode ,label encode pickle files\n",
    "with open('label_encoder_gender.pkl','rb') as file:\n",
    "    label_encoder_gender=pickle.load(file)\n",
    "\n",
    "with open('one_hot_encoding_geo.pkl','rb') as file:\n",
    "    one_hot_encoding_geo=pickle.load(file)    \n",
    "    \n",
    "with open('scaler.pkl','rb') as file:\n",
    "    scaler=pickle.load(file)\n",
    "    "
   ]
  },
  {
   "cell_type": "code",
   "execution_count": 16,
   "metadata": {},
   "outputs": [
    {
     "name": "stdout",
     "output_type": "stream",
     "text": [
      "{'CreditScore': 559, 'Geography': 'Spain', 'Gender': 'Male', 'Age': 24, 'Tenure': 3, 'Balance': 114739.92, 'NumOfProducts': 1, 'HasCrCard': 1, 'IsActiveMember': 0, 'Exited': 1}\n"
     ]
    }
   ],
   "source": [
    "#sample Input\n",
    "input_data={\n",
    "    'CreditScore': 559,\n",
    "    'Geography'\t: 'Spain',\n",
    "    'Gender': 'Male',\n",
    "    'Age':24,\n",
    "    'Tenure':3,\n",
    "    'Balance': 114739.92,\n",
    "    'NumOfProducts': 1,\n",
    "    'HasCrCard': 1,\n",
    "    'IsActiveMember': 0,\n",
    "    'Exited':1\n",
    "        }\n",
    "print(input_data)"
   ]
  },
  {
   "cell_type": "markdown",
   "metadata": {},
   "source": [
    "Preprocessing the input Data"
   ]
  },
  {
   "cell_type": "code",
   "execution_count": 17,
   "metadata": {},
   "outputs": [
    {
     "name": "stdout",
     "output_type": "stream",
     "text": [
      "   CreditScore Geography Gender  Age  Tenure    Balance  NumOfProducts  \\\n",
      "0          559     Spain   Male   24       3  114739.92              1   \n",
      "\n",
      "   HasCrCard  IsActiveMember  Exited  \n",
      "0          1               0       1  \n"
     ]
    }
   ],
   "source": [
    "#convert dictionary into dataframe\n",
    "input_data=pd.DataFrame([input_data])\n",
    "print(input_data)"
   ]
  },
  {
   "cell_type": "code",
   "execution_count": 18,
   "metadata": {},
   "outputs": [
    {
     "name": "stdout",
     "output_type": "stream",
     "text": [
      "   CreditScore Geography  Gender  Age  Tenure    Balance  NumOfProducts  \\\n",
      "0          559     Spain       1   24       3  114739.92              1   \n",
      "\n",
      "   HasCrCard  IsActiveMember  Exited  \n",
      "0          1               0       1  \n"
     ]
    },
    {
     "name": "stderr",
     "output_type": "stream",
     "text": [
      "d:\\Files\\vs code\\Gen Ai\\.myenv\\Lib\\site-packages\\sklearn\\preprocessing\\_label.py:132: DataConversionWarning: A column-vector y was passed when a 1d array was expected. Please change the shape of y to (n_samples, ), for example using ravel().\n",
      "  y = column_or_1d(y, dtype=self.classes_.dtype, warn=True)\n"
     ]
    }
   ],
   "source": [
    "# Gender label Encoding\n",
    "input_data['Gender']=label_encoder_gender.transform([input_data['Gender']])\n",
    "print(input_data)"
   ]
  },
  {
   "cell_type": "code",
   "execution_count": 19,
   "metadata": {},
   "outputs": [
    {
     "name": "stdout",
     "output_type": "stream",
     "text": [
      "   Geography_France  Geography_Germany  Geography_Spain\n",
      "0               0.0                0.0              1.0\n"
     ]
    },
    {
     "name": "stderr",
     "output_type": "stream",
     "text": [
      "d:\\Files\\vs code\\Gen Ai\\.myenv\\Lib\\site-packages\\sklearn\\base.py:493: UserWarning: X does not have valid feature names, but OneHotEncoder was fitted with feature names\n",
      "  warnings.warn(\n"
     ]
    }
   ],
   "source": [
    "\n",
    "#Geography one hoet encoding \n",
    "geo_encoded=one_hot_encoding_geo.transform([input_data['Geography']]).toarray()\n",
    "geo_encoded_df=pd.DataFrame(geo_encoded,columns=one_hot_encoding_geo.get_feature_names_out(['Geography']))\n",
    "print(geo_encoded_df)"
   ]
  },
  {
   "cell_type": "code",
   "execution_count": 20,
   "metadata": {},
   "outputs": [
    {
     "name": "stdout",
     "output_type": "stream",
     "text": [
      "   CreditScore  Gender  Age  Tenure    Balance  NumOfProducts  HasCrCard  \\\n",
      "0          559       1   24       3  114739.92              1          1   \n",
      "\n",
      "   IsActiveMember  Exited  Geography_France  Geography_Germany  \\\n",
      "0               0       1               0.0                0.0   \n",
      "\n",
      "   Geography_Spain  \n",
      "0              1.0  \n"
     ]
    }
   ],
   "source": [
    "#concatenate with original input data\n",
    "input_data_df=pd.concat([input_data.drop(['Geography'],axis=1),geo_encoded_df],axis=1)\n",
    "print(input_data_df)"
   ]
  },
  {
   "cell_type": "code",
   "execution_count": 21,
   "metadata": {},
   "outputs": [
    {
     "name": "stdout",
     "output_type": "stream",
     "text": [
      "[[-0.96147213  0.91324755 -1.41636539 -0.69539349  0.61862909 -0.91668767\n",
      "   0.64920267 -1.02583358  1.96626042 -0.99850112 -0.57946723  1.73494238]]\n"
     ]
    }
   ],
   "source": [
    "#scaling the input data for the standardized form\n",
    "input_sacled=scaler.transform(input_data_df)\n",
    "print(input_sacled)\n"
   ]
  },
  {
   "cell_type": "code",
   "execution_count": 22,
   "metadata": {},
   "outputs": [
    {
     "name": "stdout",
     "output_type": "stream",
     "text": [
      "\u001b[1m1/1\u001b[0m \u001b[32m━━━━━━━━━━━━━━━━━━━━\u001b[0m\u001b[37m\u001b[0m \u001b[1m0s\u001b[0m 141ms/step\n",
      "93864.34\n"
     ]
    }
   ],
   "source": [
    "# predict estimated Salary\n",
    "\n",
    "prediction=model.predict(input_sacled)\n",
    "prediction_salary=prediction[0][0]\n",
    "print(prediction_salary)"
   ]
  }
 ],
 "metadata": {
  "kernelspec": {
   "display_name": ".myenv",
   "language": "python",
   "name": "python3"
  },
  "language_info": {
   "codemirror_mode": {
    "name": "ipython",
    "version": 3
   },
   "file_extension": ".py",
   "mimetype": "text/x-python",
   "name": "python",
   "nbconvert_exporter": "python",
   "pygments_lexer": "ipython3",
   "version": "3.12.5"
  }
 },
 "nbformat": 4,
 "nbformat_minor": 2
}
