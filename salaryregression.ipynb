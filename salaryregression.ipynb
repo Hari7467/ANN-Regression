{
 "cells": [
  {
   "cell_type": "code",
   "execution_count": 113,
   "metadata": {},
   "outputs": [],
   "source": [
    "#Import Packages\n",
    "import pandas as pd\n",
    "from sklearn.model_selection import train_test_split\n",
    "from sklearn.preprocessing import StandardScaler,LabelEncoder,OneHotEncoder\n",
    "import pickle"
   ]
  },
  {
   "cell_type": "code",
   "execution_count": 114,
   "metadata": {},
   "outputs": [
    {
     "name": "stdout",
     "output_type": "stream",
     "text": [
      "      RowNumber  CustomerId    Surname  CreditScore Geography  Gender  Age  \\\n",
      "0             1    15634602   Hargrave          619    France  Female   42   \n",
      "1             2    15647311       Hill          608     Spain  Female   41   \n",
      "2             3    15619304       Onio          502    France  Female   42   \n",
      "3             4    15701354       Boni          699    France  Female   39   \n",
      "4             5    15737888   Mitchell          850     Spain  Female   43   \n",
      "...         ...         ...        ...          ...       ...     ...  ...   \n",
      "9995       9996    15606229   Obijiaku          771    France    Male   39   \n",
      "9996       9997    15569892  Johnstone          516    France    Male   35   \n",
      "9997       9998    15584532        Liu          709    France  Female   36   \n",
      "9998       9999    15682355  Sabbatini          772   Germany    Male   42   \n",
      "9999      10000    15628319     Walker          792    France  Female   28   \n",
      "\n",
      "      Tenure    Balance  NumOfProducts  HasCrCard  IsActiveMember  \\\n",
      "0          2       0.00              1          1               1   \n",
      "1          1   83807.86              1          0               1   \n",
      "2          8  159660.80              3          1               0   \n",
      "3          1       0.00              2          0               0   \n",
      "4          2  125510.82              1          1               1   \n",
      "...      ...        ...            ...        ...             ...   \n",
      "9995       5       0.00              2          1               0   \n",
      "9996      10   57369.61              1          1               1   \n",
      "9997       7       0.00              1          0               1   \n",
      "9998       3   75075.31              2          1               0   \n",
      "9999       4  130142.79              1          1               0   \n",
      "\n",
      "      EstimatedSalary  Exited  \n",
      "0           101348.88       1  \n",
      "1           112542.58       0  \n",
      "2           113931.57       1  \n",
      "3            93826.63       0  \n",
      "4            79084.10       0  \n",
      "...               ...     ...  \n",
      "9995         96270.64       0  \n",
      "9996        101699.77       0  \n",
      "9997         42085.58       1  \n",
      "9998         92888.52       1  \n",
      "9999         38190.78       0  \n",
      "\n",
      "[10000 rows x 14 columns]\n"
     ]
    }
   ],
   "source": [
    "#Load Data\n",
    "data=pd.read_csv(\"Churn_Modelling.csv\")\n",
    "print(data)\n"
   ]
  },
  {
   "cell_type": "code",
   "execution_count": 115,
   "metadata": {},
   "outputs": [
    {
     "name": "stdout",
     "output_type": "stream",
     "text": [
      "   CreditScore Geography  Gender  Age  Tenure    Balance  NumOfProducts  \\\n",
      "0          619    France  Female   42       2       0.00              1   \n",
      "1          608     Spain  Female   41       1   83807.86              1   \n",
      "2          502    France  Female   42       8  159660.80              3   \n",
      "3          699    France  Female   39       1       0.00              2   \n",
      "4          850     Spain  Female   43       2  125510.82              1   \n",
      "\n",
      "   HasCrCard  IsActiveMember  EstimatedSalary  Exited  \n",
      "0          1               1        101348.88       1  \n",
      "1          0               1        112542.58       0  \n",
      "2          1               0        113931.57       1  \n",
      "3          0               0         93826.63       0  \n",
      "4          1               1         79084.10       0  \n"
     ]
    }
   ],
   "source": [
    "# Drop Unwanted Columns\n",
    "data=data.drop(['CustomerId','Surname','RowNumber'],axis=1)\n",
    "print(data.head())"
   ]
  },
  {
   "cell_type": "code",
   "execution_count": 116,
   "metadata": {},
   "outputs": [
    {
     "name": "stdout",
     "output_type": "stream",
     "text": [
      "      CreditScore Geography  Gender  Age  Tenure    Balance  NumOfProducts  \\\n",
      "0             619    France       0   42       2       0.00              1   \n",
      "1             608     Spain       0   41       1   83807.86              1   \n",
      "2             502    France       0   42       8  159660.80              3   \n",
      "3             699    France       0   39       1       0.00              2   \n",
      "4             850     Spain       0   43       2  125510.82              1   \n",
      "...           ...       ...     ...  ...     ...        ...            ...   \n",
      "9995          771    France       1   39       5       0.00              2   \n",
      "9996          516    France       1   35      10   57369.61              1   \n",
      "9997          709    France       0   36       7       0.00              1   \n",
      "9998          772   Germany       1   42       3   75075.31              2   \n",
      "9999          792    France       0   28       4  130142.79              1   \n",
      "\n",
      "      HasCrCard  IsActiveMember  EstimatedSalary  Exited  \n",
      "0             1               1        101348.88       1  \n",
      "1             0               1        112542.58       0  \n",
      "2             1               0        113931.57       1  \n",
      "3             0               0         93826.63       0  \n",
      "4             1               1         79084.10       0  \n",
      "...         ...             ...              ...     ...  \n",
      "9995          1               0         96270.64       0  \n",
      "9996          1               1        101699.77       0  \n",
      "9997          0               1         42085.58       1  \n",
      "9998          1               0         92888.52       1  \n",
      "9999          1               0         38190.78       0  \n",
      "\n",
      "[10000 rows x 11 columns]\n"
     ]
    }
   ],
   "source": [
    "# Label Encode For Gender \n",
    "label_encoder_gender=LabelEncoder()\n",
    "data['Gender']=label_encoder_gender.fit_transform(data['Gender'])\n",
    "print(data)"
   ]
  },
  {
   "cell_type": "code",
   "execution_count": 117,
   "metadata": {},
   "outputs": [
    {
     "name": "stdout",
     "output_type": "stream",
     "text": [
      "[[1. 0. 0.]\n",
      " [0. 0. 1.]\n",
      " [1. 0. 0.]\n",
      " ...\n",
      " [1. 0. 0.]\n",
      " [0. 1. 0.]\n",
      " [1. 0. 0.]]\n"
     ]
    }
   ],
   "source": [
    "# One Hot Encoding For Geography \n",
    "one_hot_encoding_geo=OneHotEncoder()\n",
    "encoded_geo=one_hot_encoding_geo.fit_transform(data[['Geography']])\n",
    "print(encoded_geo.toarray())"
   ]
  },
  {
   "cell_type": "code",
   "execution_count": 118,
   "metadata": {},
   "outputs": [
    {
     "name": "stdout",
     "output_type": "stream",
     "text": [
      "      Geography_France  Geography_Germany  Geography_Spain\n",
      "0                  1.0                0.0              0.0\n",
      "1                  0.0                0.0              1.0\n",
      "2                  1.0                0.0              0.0\n",
      "3                  1.0                0.0              0.0\n",
      "4                  0.0                0.0              1.0\n",
      "...                ...                ...              ...\n",
      "9995               1.0                0.0              0.0\n",
      "9996               1.0                0.0              0.0\n",
      "9997               1.0                0.0              0.0\n",
      "9998               0.0                1.0              0.0\n",
      "9999               1.0                0.0              0.0\n",
      "\n",
      "[10000 rows x 3 columns]\n"
     ]
    }
   ],
   "source": [
    "# Combine with features\n",
    "encoded_geo=pd.DataFrame(encoded_geo.toarray(),columns=one_hot_encoding_geo.get_feature_names_out(['Geography']))\n",
    "print(encoded_geo)"
   ]
  },
  {
   "cell_type": "code",
   "execution_count": 119,
   "metadata": {},
   "outputs": [
    {
     "name": "stdout",
     "output_type": "stream",
     "text": [
      "      CreditScore  Gender  Age  Tenure    Balance  NumOfProducts  HasCrCard  \\\n",
      "0             619       0   42       2       0.00              1          1   \n",
      "1             608       0   41       1   83807.86              1          0   \n",
      "2             502       0   42       8  159660.80              3          1   \n",
      "3             699       0   39       1       0.00              2          0   \n",
      "4             850       0   43       2  125510.82              1          1   \n",
      "...           ...     ...  ...     ...        ...            ...        ...   \n",
      "9995          771       1   39       5       0.00              2          1   \n",
      "9996          516       1   35      10   57369.61              1          1   \n",
      "9997          709       0   36       7       0.00              1          0   \n",
      "9998          772       1   42       3   75075.31              2          1   \n",
      "9999          792       0   28       4  130142.79              1          1   \n",
      "\n",
      "      IsActiveMember  EstimatedSalary  Exited  Geography_France  \\\n",
      "0                  1        101348.88       1               1.0   \n",
      "1                  1        112542.58       0               0.0   \n",
      "2                  0        113931.57       1               1.0   \n",
      "3                  0         93826.63       0               1.0   \n",
      "4                  1         79084.10       0               0.0   \n",
      "...              ...              ...     ...               ...   \n",
      "9995               0         96270.64       0               1.0   \n",
      "9996               1        101699.77       0               1.0   \n",
      "9997               1         42085.58       1               1.0   \n",
      "9998               0         92888.52       1               0.0   \n",
      "9999               0         38190.78       0               1.0   \n",
      "\n",
      "      Geography_Germany  Geography_Spain  \n",
      "0                   0.0              0.0  \n",
      "1                   0.0              1.0  \n",
      "2                   0.0              0.0  \n",
      "3                   0.0              0.0  \n",
      "4                   0.0              1.0  \n",
      "...                 ...              ...  \n",
      "9995                0.0              0.0  \n",
      "9996                0.0              0.0  \n",
      "9997                0.0              0.0  \n",
      "9998                1.0              0.0  \n",
      "9999                0.0              0.0  \n",
      "\n",
      "[10000 rows x 13 columns]\n"
     ]
    }
   ],
   "source": [
    "#Concatinate With Original Data\n",
    "encoded_data=pd.concat([data.drop(['Geography'],axis=1),encoded_geo],axis=1)\n",
    "print(encoded_data)"
   ]
  },
  {
   "cell_type": "code",
   "execution_count": 120,
   "metadata": {},
   "outputs": [],
   "source": [
    "# Save One Hot Encoder and Label Encoder As Pivkle File\n",
    "with open('label_encoder_gender.pkl','wb') as file:\n",
    "    pickle.dump(label_encoder_gender,file)\n",
    "    \n",
    "with open('one_hot_encoding_geo.pkl','wb') as file:\n",
    "    pickle.dump(one_hot_encoding_geo,file)"
   ]
  },
  {
   "cell_type": "code",
   "execution_count": 121,
   "metadata": {},
   "outputs": [
    {
     "name": "stdout",
     "output_type": "stream",
     "text": [
      "X_Train\n",
      "      CreditScore  Gender  Age  Tenure    Balance  NumOfProducts  HasCrCard  \\\n",
      "9254          686       1   32       6       0.00              2          1   \n",
      "1561          632       1   42       4  119624.60              2          1   \n",
      "1670          559       1   24       3  114739.92              1          1   \n",
      "6087          561       0   27       9  135637.00              1          1   \n",
      "6669          517       1   56       9  142147.32              1          0   \n",
      "...           ...     ...  ...     ...        ...            ...        ...   \n",
      "5734          768       1   54       8   69712.74              1          1   \n",
      "5191          682       0   58       1       0.00              1          1   \n",
      "5390          735       0   38       1       0.00              3          0   \n",
      "860           667       1   43       8  190227.46              1          1   \n",
      "7270          697       1   51       1  147910.30              1          1   \n",
      "\n",
      "      IsActiveMember  Exited  Geography_France  Geography_Germany  \\\n",
      "9254               1       0               1.0                0.0   \n",
      "1561               1       0               0.0                1.0   \n",
      "1670               0       1               0.0                0.0   \n",
      "6087               0       1               1.0                0.0   \n",
      "6669               0       1               1.0                0.0   \n",
      "...              ...     ...               ...                ...   \n",
      "5734               1       0               1.0                0.0   \n",
      "5191               1       0               1.0                0.0   \n",
      "5390               0       1               1.0                0.0   \n",
      "860                0       1               1.0                0.0   \n",
      "7270               1       0               0.0                1.0   \n",
      "\n",
      "      Geography_Spain  \n",
      "9254              0.0  \n",
      "1561              0.0  \n",
      "1670              1.0  \n",
      "6087              0.0  \n",
      "6669              0.0  \n",
      "...               ...  \n",
      "5734              0.0  \n",
      "5191              0.0  \n",
      "5390              0.0  \n",
      "860               0.0  \n",
      "7270              0.0  \n",
      "\n",
      "[8000 rows x 12 columns]\n",
      "y_train\n",
      "9254    179093.26\n",
      "1561    195978.86\n",
      "1670     85891.02\n",
      "6087    153080.40\n",
      "6669     39488.04\n",
      "          ...    \n",
      "5734     69381.05\n",
      "5191       706.50\n",
      "5390     92220.12\n",
      "860      97508.04\n",
      "7270     53581.14\n",
      "Name: EstimatedSalary, Length: 8000, dtype: float64\n"
     ]
    }
   ],
   "source": [
    "#Split The data for Test and Train\n",
    "X=encoded_data.drop(['EstimatedSalary'],axis=1)\n",
    "y=encoded_data['EstimatedSalary']\n",
    "X_train,X_test,y_train,y_test=train_test_split(X,y,test_size=0.2,random_state=42)\n",
    "print(\"X_Train\")\n",
    "print(X_train)\n",
    "print(\"y_train\")\n",
    "print(y_train)"
   ]
  },
  {
   "cell_type": "code",
   "execution_count": 122,
   "metadata": {},
   "outputs": [
    {
     "name": "stdout",
     "output_type": "stream",
     "text": [
      "X_Train\n",
      "[[ 0.35649971  0.91324755 -0.6557859  ...  1.00150113 -0.57946723\n",
      "  -0.57638802]\n",
      " [-0.20389777  0.91324755  0.29493847 ... -0.99850112  1.72572313\n",
      "  -0.57638802]\n",
      " [-0.96147213  0.91324755 -1.41636539 ... -0.99850112 -0.57946723\n",
      "   1.73494238]\n",
      " ...\n",
      " [ 0.86500853 -1.09499335 -0.08535128 ...  1.00150113 -0.57946723\n",
      "  -0.57638802]\n",
      " [ 0.15932282  0.91324755  0.3900109  ...  1.00150113 -0.57946723\n",
      "  -0.57638802]\n",
      " [ 0.47065475  0.91324755  1.15059039 ... -0.99850112  1.72572313\n",
      "  -0.57638802]]\n",
      "y_train\n",
      "9254    179093.26\n",
      "1561    195978.86\n",
      "1670     85891.02\n",
      "6087    153080.40\n",
      "6669     39488.04\n",
      "          ...    \n",
      "5734     69381.05\n",
      "5191       706.50\n",
      "5390     92220.12\n",
      "860      97508.04\n",
      "7270     53581.14\n",
      "Name: EstimatedSalary, Length: 8000, dtype: float64\n"
     ]
    }
   ],
   "source": [
    "# Scaling the data for Standared format\n",
    "scaler=StandardScaler()\n",
    "X_train=scaler.fit_transform(X_train)\n",
    "X_test=scaler.transform(X_test)\n",
    "\n",
    "#Save the scaler as pickle file\n",
    "\n",
    "with open('scaler.pkl','wb') as file:\n",
    "    pickle.dump(scaler,file)\n",
    "print(\"X_Train\")\n",
    "print(X_train)\n",
    "print(\"y_train\")\n",
    "print(y_train)"
   ]
  },
  {
   "cell_type": "markdown",
   "metadata": {},
   "source": [
    "ANN REGRESSSION"
   ]
  },
  {
   "cell_type": "code",
   "execution_count": 123,
   "metadata": {},
   "outputs": [],
   "source": [
    "# Import neccessary packages\n",
    "import tensorflow\n",
    "from tensorflow.keras.models import Sequential\n",
    "from tensorflow.keras.layers import Dense\n",
    "from tensorflow.keras.callbacks import EarlyStopping,TensorBoard\n",
    "import datetime"
   ]
  },
  {
   "cell_type": "code",
   "execution_count": 124,
   "metadata": {},
   "outputs": [
    {
     "name": "stderr",
     "output_type": "stream",
     "text": [
      "d:\\Files\\vs code\\Gen Ai\\.myenv\\Lib\\site-packages\\keras\\src\\layers\\core\\dense.py:87: UserWarning: Do not pass an `input_shape`/`input_dim` argument to a layer. When using Sequential models, prefer using an `Input(shape)` object as the first layer in the model instead.\n",
      "  super().__init__(activity_regularizer=activity_regularizer, **kwargs)\n"
     ]
    }
   ],
   "source": [
    "#Build The Model\n",
    "model=Sequential([\n",
    "    Dense(64,activation='relu',input_shape=(X_train.shape[1],)),  #Hidden Layer 1\n",
    "    Dense(34,activation='relu'),                                   # Hidden Layer 2\n",
    "    Dense(1)                                 # Output Layer\n",
    "])"
   ]
  },
  {
   "cell_type": "code",
   "execution_count": 125,
   "metadata": {},
   "outputs": [
    {
     "data": {
      "text/html": [
       "<pre style=\"white-space:pre;overflow-x:auto;line-height:normal;font-family:Menlo,'DejaVu Sans Mono',consolas,'Courier New',monospace\"><span style=\"font-weight: bold\">Model: \"sequential_3\"</span>\n",
       "</pre>\n"
      ],
      "text/plain": [
       "\u001b[1mModel: \"sequential_3\"\u001b[0m\n"
      ]
     },
     "metadata": {},
     "output_type": "display_data"
    },
    {
     "data": {
      "text/html": [
       "<pre style=\"white-space:pre;overflow-x:auto;line-height:normal;font-family:Menlo,'DejaVu Sans Mono',consolas,'Courier New',monospace\">┏━━━━━━━━━━━━━━━━━━━━━━━━━━━━━━━━━┳━━━━━━━━━━━━━━━━━━━━━━━━┳━━━━━━━━━━━━━━━┓\n",
       "┃<span style=\"font-weight: bold\"> Layer (type)                    </span>┃<span style=\"font-weight: bold\"> Output Shape           </span>┃<span style=\"font-weight: bold\">       Param # </span>┃\n",
       "┡━━━━━━━━━━━━━━━━━━━━━━━━━━━━━━━━━╇━━━━━━━━━━━━━━━━━━━━━━━━╇━━━━━━━━━━━━━━━┩\n",
       "│ dense_9 (<span style=\"color: #0087ff; text-decoration-color: #0087ff\">Dense</span>)                 │ (<span style=\"color: #00d7ff; text-decoration-color: #00d7ff\">None</span>, <span style=\"color: #00af00; text-decoration-color: #00af00\">64</span>)             │           <span style=\"color: #00af00; text-decoration-color: #00af00\">832</span> │\n",
       "├─────────────────────────────────┼────────────────────────┼───────────────┤\n",
       "│ dense_10 (<span style=\"color: #0087ff; text-decoration-color: #0087ff\">Dense</span>)                │ (<span style=\"color: #00d7ff; text-decoration-color: #00d7ff\">None</span>, <span style=\"color: #00af00; text-decoration-color: #00af00\">34</span>)             │         <span style=\"color: #00af00; text-decoration-color: #00af00\">2,210</span> │\n",
       "├─────────────────────────────────┼────────────────────────┼───────────────┤\n",
       "│ dense_11 (<span style=\"color: #0087ff; text-decoration-color: #0087ff\">Dense</span>)                │ (<span style=\"color: #00d7ff; text-decoration-color: #00d7ff\">None</span>, <span style=\"color: #00af00; text-decoration-color: #00af00\">1</span>)              │            <span style=\"color: #00af00; text-decoration-color: #00af00\">35</span> │\n",
       "└─────────────────────────────────┴────────────────────────┴───────────────┘\n",
       "</pre>\n"
      ],
      "text/plain": [
       "┏━━━━━━━━━━━━━━━━━━━━━━━━━━━━━━━━━┳━━━━━━━━━━━━━━━━━━━━━━━━┳━━━━━━━━━━━━━━━┓\n",
       "┃\u001b[1m \u001b[0m\u001b[1mLayer (type)                   \u001b[0m\u001b[1m \u001b[0m┃\u001b[1m \u001b[0m\u001b[1mOutput Shape          \u001b[0m\u001b[1m \u001b[0m┃\u001b[1m \u001b[0m\u001b[1m      Param #\u001b[0m\u001b[1m \u001b[0m┃\n",
       "┡━━━━━━━━━━━━━━━━━━━━━━━━━━━━━━━━━╇━━━━━━━━━━━━━━━━━━━━━━━━╇━━━━━━━━━━━━━━━┩\n",
       "│ dense_9 (\u001b[38;5;33mDense\u001b[0m)                 │ (\u001b[38;5;45mNone\u001b[0m, \u001b[38;5;34m64\u001b[0m)             │           \u001b[38;5;34m832\u001b[0m │\n",
       "├─────────────────────────────────┼────────────────────────┼───────────────┤\n",
       "│ dense_10 (\u001b[38;5;33mDense\u001b[0m)                │ (\u001b[38;5;45mNone\u001b[0m, \u001b[38;5;34m34\u001b[0m)             │         \u001b[38;5;34m2,210\u001b[0m │\n",
       "├─────────────────────────────────┼────────────────────────┼───────────────┤\n",
       "│ dense_11 (\u001b[38;5;33mDense\u001b[0m)                │ (\u001b[38;5;45mNone\u001b[0m, \u001b[38;5;34m1\u001b[0m)              │            \u001b[38;5;34m35\u001b[0m │\n",
       "└─────────────────────────────────┴────────────────────────┴───────────────┘\n"
      ]
     },
     "metadata": {},
     "output_type": "display_data"
    },
    {
     "data": {
      "text/html": [
       "<pre style=\"white-space:pre;overflow-x:auto;line-height:normal;font-family:Menlo,'DejaVu Sans Mono',consolas,'Courier New',monospace\"><span style=\"font-weight: bold\"> Total params: </span><span style=\"color: #00af00; text-decoration-color: #00af00\">3,077</span> (12.02 KB)\n",
       "</pre>\n"
      ],
      "text/plain": [
       "\u001b[1m Total params: \u001b[0m\u001b[38;5;34m3,077\u001b[0m (12.02 KB)\n"
      ]
     },
     "metadata": {},
     "output_type": "display_data"
    },
    {
     "data": {
      "text/html": [
       "<pre style=\"white-space:pre;overflow-x:auto;line-height:normal;font-family:Menlo,'DejaVu Sans Mono',consolas,'Courier New',monospace\"><span style=\"font-weight: bold\"> Trainable params: </span><span style=\"color: #00af00; text-decoration-color: #00af00\">3,077</span> (12.02 KB)\n",
       "</pre>\n"
      ],
      "text/plain": [
       "\u001b[1m Trainable params: \u001b[0m\u001b[38;5;34m3,077\u001b[0m (12.02 KB)\n"
      ]
     },
     "metadata": {},
     "output_type": "display_data"
    },
    {
     "data": {
      "text/html": [
       "<pre style=\"white-space:pre;overflow-x:auto;line-height:normal;font-family:Menlo,'DejaVu Sans Mono',consolas,'Courier New',monospace\"><span style=\"font-weight: bold\"> Non-trainable params: </span><span style=\"color: #00af00; text-decoration-color: #00af00\">0</span> (0.00 B)\n",
       "</pre>\n"
      ],
      "text/plain": [
       "\u001b[1m Non-trainable params: \u001b[0m\u001b[38;5;34m0\u001b[0m (0.00 B)\n"
      ]
     },
     "metadata": {},
     "output_type": "display_data"
    }
   ],
   "source": [
    "#Compile The Model\n",
    "model.compile(optimizer='adam',loss='mean_absolute_error',metrics=['mae'])\n",
    "model.summary()"
   ]
  },
  {
   "cell_type": "code",
   "execution_count": 126,
   "metadata": {},
   "outputs": [],
   "source": [
    "#Set Up tensor Board\n",
    "log_dir='logs/fit'+datetime.datetime.now().strftime(\"%Y%m%d-%H%M%S\")\n",
    "tensorboard_callback=TensorBoard(log_dir=log_dir,histogram_freq=1)\n"
   ]
  },
  {
   "cell_type": "code",
   "execution_count": 127,
   "metadata": {},
   "outputs": [],
   "source": [
    "#Set up early Stopping\n",
    "early_stopping_callback=EarlyStopping(monitor='val_loss',patience=10,restore_best_weights=True)\n"
   ]
  },
  {
   "cell_type": "code",
   "execution_count": 128,
   "metadata": {},
   "outputs": [
    {
     "name": "stdout",
     "output_type": "stream",
     "text": [
      "Epoch 1/100\n",
      "\u001b[1m250/250\u001b[0m \u001b[32m━━━━━━━━━━━━━━━━━━━━\u001b[0m\u001b[37m\u001b[0m \u001b[1m2s\u001b[0m 3ms/step - loss: 100411.6328 - mae: 100411.6328 - val_loss: 98521.4766 - val_mae: 98521.4766\n",
      "Epoch 2/100\n",
      "\u001b[1m250/250\u001b[0m \u001b[32m━━━━━━━━━━━━━━━━━━━━\u001b[0m\u001b[37m\u001b[0m \u001b[1m1s\u001b[0m 2ms/step - loss: 100183.6250 - mae: 100183.6250 - val_loss: 96959.4375 - val_mae: 96959.4375\n",
      "Epoch 3/100\n",
      "\u001b[1m250/250\u001b[0m \u001b[32m━━━━━━━━━━━━━━━━━━━━\u001b[0m\u001b[37m\u001b[0m \u001b[1m1s\u001b[0m 2ms/step - loss: 97644.8516 - mae: 97644.8516 - val_loss: 92951.8984 - val_mae: 92951.8984\n",
      "Epoch 4/100\n",
      "\u001b[1m250/250\u001b[0m \u001b[32m━━━━━━━━━━━━━━━━━━━━\u001b[0m\u001b[37m\u001b[0m \u001b[1m1s\u001b[0m 2ms/step - loss: 94246.1719 - mae: 94246.1719 - val_loss: 86326.6562 - val_mae: 86326.6562\n",
      "Epoch 5/100\n",
      "\u001b[1m250/250\u001b[0m \u001b[32m━━━━━━━━━━━━━━━━━━━━\u001b[0m\u001b[37m\u001b[0m \u001b[1m1s\u001b[0m 2ms/step - loss: 86993.0859 - mae: 86993.0859 - val_loss: 77800.8281 - val_mae: 77800.8281\n",
      "Epoch 6/100\n",
      "\u001b[1m250/250\u001b[0m \u001b[32m━━━━━━━━━━━━━━━━━━━━\u001b[0m\u001b[37m\u001b[0m \u001b[1m0s\u001b[0m 2ms/step - loss: 77197.3281 - mae: 77197.3281 - val_loss: 69017.6797 - val_mae: 69017.6797\n",
      "Epoch 7/100\n",
      "\u001b[1m250/250\u001b[0m \u001b[32m━━━━━━━━━━━━━━━━━━━━\u001b[0m\u001b[37m\u001b[0m \u001b[1m0s\u001b[0m 2ms/step - loss: 68416.3594 - mae: 68416.3594 - val_loss: 61333.6133 - val_mae: 61333.6133\n",
      "Epoch 8/100\n",
      "\u001b[1m250/250\u001b[0m \u001b[32m━━━━━━━━━━━━━━━━━━━━\u001b[0m\u001b[37m\u001b[0m \u001b[1m0s\u001b[0m 2ms/step - loss: 61302.4336 - mae: 61302.4336 - val_loss: 55890.5586 - val_mae: 55890.5586\n",
      "Epoch 9/100\n",
      "\u001b[1m250/250\u001b[0m \u001b[32m━━━━━━━━━━━━━━━━━━━━\u001b[0m\u001b[37m\u001b[0m \u001b[1m0s\u001b[0m 2ms/step - loss: 55254.7383 - mae: 55254.7383 - val_loss: 52764.1094 - val_mae: 52764.1094\n",
      "Epoch 10/100\n",
      "\u001b[1m250/250\u001b[0m \u001b[32m━━━━━━━━━━━━━━━━━━━━\u001b[0m\u001b[37m\u001b[0m \u001b[1m0s\u001b[0m 2ms/step - loss: 52856.5039 - mae: 52856.5039 - val_loss: 51461.8945 - val_mae: 51461.8945\n",
      "Epoch 11/100\n",
      "\u001b[1m250/250\u001b[0m \u001b[32m━━━━━━━━━━━━━━━━━━━━\u001b[0m\u001b[37m\u001b[0m \u001b[1m0s\u001b[0m 1ms/step - loss: 51080.2266 - mae: 51080.2266 - val_loss: 50990.9688 - val_mae: 50990.9688\n",
      "Epoch 12/100\n",
      "\u001b[1m250/250\u001b[0m \u001b[32m━━━━━━━━━━━━━━━━━━━━\u001b[0m\u001b[37m\u001b[0m \u001b[1m1s\u001b[0m 2ms/step - loss: 50720.3906 - mae: 50720.3906 - val_loss: 50798.5234 - val_mae: 50798.5234\n",
      "Epoch 13/100\n",
      "\u001b[1m250/250\u001b[0m \u001b[32m━━━━━━━━━━━━━━━━━━━━\u001b[0m\u001b[37m\u001b[0m \u001b[1m0s\u001b[0m 2ms/step - loss: 50595.0547 - mae: 50595.0547 - val_loss: 50722.6133 - val_mae: 50722.6133\n",
      "Epoch 14/100\n",
      "\u001b[1m250/250\u001b[0m \u001b[32m━━━━━━━━━━━━━━━━━━━━\u001b[0m\u001b[37m\u001b[0m \u001b[1m0s\u001b[0m 2ms/step - loss: 50292.2656 - mae: 50292.2656 - val_loss: 50666.4336 - val_mae: 50666.4336\n",
      "Epoch 15/100\n",
      "\u001b[1m250/250\u001b[0m \u001b[32m━━━━━━━━━━━━━━━━━━━━\u001b[0m\u001b[37m\u001b[0m \u001b[1m1s\u001b[0m 2ms/step - loss: 50273.3242 - mae: 50273.3242 - val_loss: 50625.1406 - val_mae: 50625.1406\n",
      "Epoch 16/100\n",
      "\u001b[1m250/250\u001b[0m \u001b[32m━━━━━━━━━━━━━━━━━━━━\u001b[0m\u001b[37m\u001b[0m \u001b[1m1s\u001b[0m 2ms/step - loss: 50597.6602 - mae: 50597.6602 - val_loss: 50574.9336 - val_mae: 50574.9336\n",
      "Epoch 17/100\n",
      "\u001b[1m250/250\u001b[0m \u001b[32m━━━━━━━━━━━━━━━━━━━━\u001b[0m\u001b[37m\u001b[0m \u001b[1m0s\u001b[0m 2ms/step - loss: 49872.3516 - mae: 49872.3516 - val_loss: 50536.9648 - val_mae: 50536.9648\n",
      "Epoch 18/100\n",
      "\u001b[1m250/250\u001b[0m \u001b[32m━━━━━━━━━━━━━━━━━━━━\u001b[0m\u001b[37m\u001b[0m \u001b[1m0s\u001b[0m 2ms/step - loss: 50382.3320 - mae: 50382.3320 - val_loss: 50495.1875 - val_mae: 50495.1875\n",
      "Epoch 19/100\n",
      "\u001b[1m250/250\u001b[0m \u001b[32m━━━━━━━━━━━━━━━━━━━━\u001b[0m\u001b[37m\u001b[0m \u001b[1m0s\u001b[0m 2ms/step - loss: 49748.9180 - mae: 49748.9180 - val_loss: 50464.4570 - val_mae: 50464.4570\n",
      "Epoch 20/100\n",
      "\u001b[1m250/250\u001b[0m \u001b[32m━━━━━━━━━━━━━━━━━━━━\u001b[0m\u001b[37m\u001b[0m \u001b[1m0s\u001b[0m 1ms/step - loss: 50049.3164 - mae: 50049.3164 - val_loss: 50438.3828 - val_mae: 50438.3828\n",
      "Epoch 21/100\n",
      "\u001b[1m250/250\u001b[0m \u001b[32m━━━━━━━━━━━━━━━━━━━━\u001b[0m\u001b[37m\u001b[0m \u001b[1m0s\u001b[0m 2ms/step - loss: 50096.4023 - mae: 50096.4023 - val_loss: 50407.0625 - val_mae: 50407.0625\n",
      "Epoch 22/100\n",
      "\u001b[1m250/250\u001b[0m \u001b[32m━━━━━━━━━━━━━━━━━━━━\u001b[0m\u001b[37m\u001b[0m \u001b[1m0s\u001b[0m 1ms/step - loss: 49652.0352 - mae: 49652.0352 - val_loss: 50382.7617 - val_mae: 50382.7617\n",
      "Epoch 23/100\n",
      "\u001b[1m250/250\u001b[0m \u001b[32m━━━━━━━━━━━━━━━━━━━━\u001b[0m\u001b[37m\u001b[0m \u001b[1m0s\u001b[0m 2ms/step - loss: 49892.7852 - mae: 49892.7852 - val_loss: 50364.3516 - val_mae: 50364.3516\n",
      "Epoch 24/100\n",
      "\u001b[1m250/250\u001b[0m \u001b[32m━━━━━━━━━━━━━━━━━━━━\u001b[0m\u001b[37m\u001b[0m \u001b[1m0s\u001b[0m 2ms/step - loss: 49978.6055 - mae: 49978.6055 - val_loss: 50347.0078 - val_mae: 50347.0078\n",
      "Epoch 25/100\n",
      "\u001b[1m250/250\u001b[0m \u001b[32m━━━━━━━━━━━━━━━━━━━━\u001b[0m\u001b[37m\u001b[0m \u001b[1m0s\u001b[0m 2ms/step - loss: 50472.2852 - mae: 50472.2852 - val_loss: 50340.1875 - val_mae: 50340.1875\n",
      "Epoch 26/100\n",
      "\u001b[1m250/250\u001b[0m \u001b[32m━━━━━━━━━━━━━━━━━━━━\u001b[0m\u001b[37m\u001b[0m \u001b[1m0s\u001b[0m 2ms/step - loss: 49884.2578 - mae: 49884.2578 - val_loss: 50332.8242 - val_mae: 50332.8242\n",
      "Epoch 27/100\n",
      "\u001b[1m250/250\u001b[0m \u001b[32m━━━━━━━━━━━━━━━━━━━━\u001b[0m\u001b[37m\u001b[0m \u001b[1m1s\u001b[0m 2ms/step - loss: 49798.6367 - mae: 49798.6367 - val_loss: 50311.4883 - val_mae: 50311.4883\n",
      "Epoch 28/100\n",
      "\u001b[1m250/250\u001b[0m \u001b[32m━━━━━━━━━━━━━━━━━━━━\u001b[0m\u001b[37m\u001b[0m \u001b[1m1s\u001b[0m 2ms/step - loss: 49702.7969 - mae: 49702.7969 - val_loss: 50299.2539 - val_mae: 50299.2539\n",
      "Epoch 29/100\n",
      "\u001b[1m250/250\u001b[0m \u001b[32m━━━━━━━━━━━━━━━━━━━━\u001b[0m\u001b[37m\u001b[0m \u001b[1m0s\u001b[0m 2ms/step - loss: 49868.2109 - mae: 49868.2109 - val_loss: 50289.3867 - val_mae: 50289.3867\n",
      "Epoch 30/100\n",
      "\u001b[1m250/250\u001b[0m \u001b[32m━━━━━━━━━━━━━━━━━━━━\u001b[0m\u001b[37m\u001b[0m \u001b[1m0s\u001b[0m 2ms/step - loss: 50233.7383 - mae: 50233.7383 - val_loss: 50275.7695 - val_mae: 50275.7695\n",
      "Epoch 31/100\n",
      "\u001b[1m250/250\u001b[0m \u001b[32m━━━━━━━━━━━━━━━━━━━━\u001b[0m\u001b[37m\u001b[0m \u001b[1m1s\u001b[0m 2ms/step - loss: 49893.0000 - mae: 49893.0000 - val_loss: 50274.8516 - val_mae: 50274.8516\n",
      "Epoch 32/100\n",
      "\u001b[1m250/250\u001b[0m \u001b[32m━━━━━━━━━━━━━━━━━━━━\u001b[0m\u001b[37m\u001b[0m \u001b[1m1s\u001b[0m 2ms/step - loss: 49575.9297 - mae: 49575.9297 - val_loss: 50270.8359 - val_mae: 50270.8359\n",
      "Epoch 33/100\n",
      "\u001b[1m250/250\u001b[0m \u001b[32m━━━━━━━━━━━━━━━━━━━━\u001b[0m\u001b[37m\u001b[0m \u001b[1m1s\u001b[0m 2ms/step - loss: 49910.2031 - mae: 49910.2031 - val_loss: 50263.8008 - val_mae: 50263.8008\n",
      "Epoch 34/100\n",
      "\u001b[1m250/250\u001b[0m \u001b[32m━━━━━━━━━━━━━━━━━━━━\u001b[0m\u001b[37m\u001b[0m \u001b[1m1s\u001b[0m 2ms/step - loss: 49815.4492 - mae: 49815.4492 - val_loss: 50258.6055 - val_mae: 50258.6055\n",
      "Epoch 35/100\n",
      "\u001b[1m250/250\u001b[0m \u001b[32m━━━━━━━━━━━━━━━━━━━━\u001b[0m\u001b[37m\u001b[0m \u001b[1m1s\u001b[0m 2ms/step - loss: 49636.0508 - mae: 49636.0508 - val_loss: 50252.5742 - val_mae: 50252.5742\n",
      "Epoch 36/100\n",
      "\u001b[1m250/250\u001b[0m \u001b[32m━━━━━━━━━━━━━━━━━━━━\u001b[0m\u001b[37m\u001b[0m \u001b[1m1s\u001b[0m 2ms/step - loss: 50060.4102 - mae: 50060.4102 - val_loss: 50246.6719 - val_mae: 50246.6719\n",
      "Epoch 37/100\n",
      "\u001b[1m250/250\u001b[0m \u001b[32m━━━━━━━━━━━━━━━━━━━━\u001b[0m\u001b[37m\u001b[0m \u001b[1m1s\u001b[0m 2ms/step - loss: 49526.1484 - mae: 49526.1484 - val_loss: 50245.9844 - val_mae: 50245.9844\n",
      "Epoch 38/100\n",
      "\u001b[1m250/250\u001b[0m \u001b[32m━━━━━━━━━━━━━━━━━━━━\u001b[0m\u001b[37m\u001b[0m \u001b[1m0s\u001b[0m 2ms/step - loss: 49767.3203 - mae: 49767.3203 - val_loss: 50247.0234 - val_mae: 50247.0234\n",
      "Epoch 39/100\n",
      "\u001b[1m250/250\u001b[0m \u001b[32m━━━━━━━━━━━━━━━━━━━━\u001b[0m\u001b[37m\u001b[0m \u001b[1m0s\u001b[0m 2ms/step - loss: 49472.6953 - mae: 49472.6953 - val_loss: 50231.9531 - val_mae: 50231.9531\n",
      "Epoch 40/100\n",
      "\u001b[1m250/250\u001b[0m \u001b[32m━━━━━━━━━━━━━━━━━━━━\u001b[0m\u001b[37m\u001b[0m \u001b[1m1s\u001b[0m 2ms/step - loss: 49366.1328 - mae: 49366.1328 - val_loss: 50224.3594 - val_mae: 50224.3594\n",
      "Epoch 41/100\n",
      "\u001b[1m250/250\u001b[0m \u001b[32m━━━━━━━━━━━━━━━━━━━━\u001b[0m\u001b[37m\u001b[0m \u001b[1m0s\u001b[0m 2ms/step - loss: 49839.3086 - mae: 49839.3086 - val_loss: 50227.4453 - val_mae: 50227.4453\n",
      "Epoch 42/100\n",
      "\u001b[1m250/250\u001b[0m \u001b[32m━━━━━━━━━━━━━━━━━━━━\u001b[0m\u001b[37m\u001b[0m \u001b[1m1s\u001b[0m 2ms/step - loss: 49835.0391 - mae: 49835.0391 - val_loss: 50230.4062 - val_mae: 50230.4062\n",
      "Epoch 43/100\n",
      "\u001b[1m250/250\u001b[0m \u001b[32m━━━━━━━━━━━━━━━━━━━━\u001b[0m\u001b[37m\u001b[0m \u001b[1m1s\u001b[0m 2ms/step - loss: 49976.4922 - mae: 49976.4922 - val_loss: 50221.4258 - val_mae: 50221.4258\n",
      "Epoch 44/100\n",
      "\u001b[1m250/250\u001b[0m \u001b[32m━━━━━━━━━━━━━━━━━━━━\u001b[0m\u001b[37m\u001b[0m \u001b[1m0s\u001b[0m 2ms/step - loss: 49292.9570 - mae: 49292.9570 - val_loss: 50218.0000 - val_mae: 50218.0000\n",
      "Epoch 45/100\n",
      "\u001b[1m250/250\u001b[0m \u001b[32m━━━━━━━━━━━━━━━━━━━━\u001b[0m\u001b[37m\u001b[0m \u001b[1m0s\u001b[0m 2ms/step - loss: 49561.4453 - mae: 49561.4453 - val_loss: 50214.6953 - val_mae: 50214.6953\n",
      "Epoch 46/100\n",
      "\u001b[1m250/250\u001b[0m \u001b[32m━━━━━━━━━━━━━━━━━━━━\u001b[0m\u001b[37m\u001b[0m \u001b[1m0s\u001b[0m 2ms/step - loss: 49473.5430 - mae: 49473.5430 - val_loss: 50219.5859 - val_mae: 50219.5859\n",
      "Epoch 47/100\n",
      "\u001b[1m250/250\u001b[0m \u001b[32m━━━━━━━━━━━━━━━━━━━━\u001b[0m\u001b[37m\u001b[0m \u001b[1m0s\u001b[0m 2ms/step - loss: 49630.3789 - mae: 49630.3789 - val_loss: 50224.9023 - val_mae: 50224.9023\n",
      "Epoch 48/100\n",
      "\u001b[1m250/250\u001b[0m \u001b[32m━━━━━━━━━━━━━━━━━━━━\u001b[0m\u001b[37m\u001b[0m \u001b[1m0s\u001b[0m 2ms/step - loss: 49680.8867 - mae: 49680.8867 - val_loss: 50220.4727 - val_mae: 50220.4727\n",
      "Epoch 49/100\n",
      "\u001b[1m250/250\u001b[0m \u001b[32m━━━━━━━━━━━━━━━━━━━━\u001b[0m\u001b[37m\u001b[0m \u001b[1m0s\u001b[0m 1ms/step - loss: 49771.6641 - mae: 49771.6641 - val_loss: 50226.2734 - val_mae: 50226.2734\n",
      "Epoch 50/100\n",
      "\u001b[1m250/250\u001b[0m \u001b[32m━━━━━━━━━━━━━━━━━━━━\u001b[0m\u001b[37m\u001b[0m \u001b[1m0s\u001b[0m 2ms/step - loss: 49438.6094 - mae: 49438.6094 - val_loss: 50223.5312 - val_mae: 50223.5312\n",
      "Epoch 51/100\n",
      "\u001b[1m250/250\u001b[0m \u001b[32m━━━━━━━━━━━━━━━━━━━━\u001b[0m\u001b[37m\u001b[0m \u001b[1m0s\u001b[0m 2ms/step - loss: 49069.8672 - mae: 49069.8672 - val_loss: 50224.6172 - val_mae: 50224.6172\n",
      "Epoch 52/100\n",
      "\u001b[1m250/250\u001b[0m \u001b[32m━━━━━━━━━━━━━━━━━━━━\u001b[0m\u001b[37m\u001b[0m \u001b[1m0s\u001b[0m 2ms/step - loss: 48971.2031 - mae: 48971.2031 - val_loss: 50230.2969 - val_mae: 50230.2969\n",
      "Epoch 53/100\n",
      "\u001b[1m250/250\u001b[0m \u001b[32m━━━━━━━━━━━━━━━━━━━━\u001b[0m\u001b[37m\u001b[0m \u001b[1m1s\u001b[0m 2ms/step - loss: 49737.4609 - mae: 49737.4609 - val_loss: 50218.9023 - val_mae: 50218.9023\n",
      "Epoch 54/100\n",
      "\u001b[1m250/250\u001b[0m \u001b[32m━━━━━━━━━━━━━━━━━━━━\u001b[0m\u001b[37m\u001b[0m \u001b[1m1s\u001b[0m 2ms/step - loss: 49778.3594 - mae: 49778.3594 - val_loss: 50232.9727 - val_mae: 50232.9727\n",
      "Epoch 55/100\n",
      "\u001b[1m250/250\u001b[0m \u001b[32m━━━━━━━━━━━━━━━━━━━━\u001b[0m\u001b[37m\u001b[0m \u001b[1m0s\u001b[0m 2ms/step - loss: 48859.1953 - mae: 48859.1953 - val_loss: 50242.5312 - val_mae: 50242.5312\n"
     ]
    }
   ],
   "source": [
    "#train the Model\n",
    "history=model.fit(\n",
    "    X_train,y_train,\n",
    "    validation_data=(X_test,y_test),\n",
    "    epochs=100,\n",
    "    callbacks=[early_stopping_callback,tensorboard_callback]\n",
    ")"
   ]
  },
  {
   "cell_type": "code",
   "execution_count": 129,
   "metadata": {},
   "outputs": [
    {
     "name": "stdout",
     "output_type": "stream",
     "text": [
      "The tensorboard extension is already loaded. To reload it, use:\n",
      "  %reload_ext tensorboard\n"
     ]
    }
   ],
   "source": [
    "#Tensor Borad\n",
    "%load_ext tensorboard"
   ]
  },
  {
   "cell_type": "code",
   "execution_count": 130,
   "metadata": {},
   "outputs": [
    {
     "data": {
      "text/plain": [
       "Reusing TensorBoard on port 6006 (pid 6752), started 0:05:01 ago. (Use '!kill 6752' to kill it.)"
      ]
     },
     "metadata": {},
     "output_type": "display_data"
    },
    {
     "data": {
      "text/html": [
       "\n",
       "      <iframe id=\"tensorboard-frame-8b344800710321d5\" width=\"100%\" height=\"800\" frameborder=\"0\">\n",
       "      </iframe>\n",
       "      <script>\n",
       "        (function() {\n",
       "          const frame = document.getElementById(\"tensorboard-frame-8b344800710321d5\");\n",
       "          const url = new URL(\"http://localhost\");\n",
       "          const port = 6006;\n",
       "          if (port) {\n",
       "            url.port = port;\n",
       "          }\n",
       "          frame.src = url;\n",
       "        })();\n",
       "      </script>\n",
       "    "
      ],
      "text/plain": [
       "<IPython.core.display.HTML object>"
      ]
     },
     "metadata": {},
     "output_type": "display_data"
    }
   ],
   "source": [
    "%tensorboard --logdir logs/fit20241127-230616"
   ]
  },
  {
   "cell_type": "code",
   "execution_count": 131,
   "metadata": {},
   "outputs": [
    {
     "name": "stderr",
     "output_type": "stream",
     "text": [
      "WARNING:absl:You are saving your model as an HDF5 file via `model.save()` or `keras.saving.save_model(model)`. This file format is considered legacy. We recommend using instead the native Keras format, e.g. `model.save('my_model.keras')` or `keras.saving.save_model(model, 'my_model.keras')`. \n"
     ]
    }
   ],
   "source": [
    "#Save The Model\n",
    "model.save('regression_model.h5')"
   ]
  }
 ],
 "metadata": {
  "kernelspec": {
   "display_name": ".myenv",
   "language": "python",
   "name": "python3"
  },
  "language_info": {
   "codemirror_mode": {
    "name": "ipython",
    "version": 3
   },
   "file_extension": ".py",
   "mimetype": "text/x-python",
   "name": "python",
   "nbconvert_exporter": "python",
   "pygments_lexer": "ipython3",
   "version": "3.12.5"
  }
 },
 "nbformat": 4,
 "nbformat_minor": 2
}
